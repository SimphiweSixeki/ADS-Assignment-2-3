{
  "nbformat": 4,
  "nbformat_minor": 0,
  "metadata": {
    "colab": {
      "name": "Assignment 2 and 3.ipynb",
      "provenance": [],
      "authorship_tag": "ABX9TyORVykRzX2F/CKoHtQNrvrN",
      "include_colab_link": true
    },
    "kernelspec": {
      "name": "python3",
      "display_name": "Python 3"
    },
    "language_info": {
      "name": "python"
    }
  },
  "cells": [
    {
      "cell_type": "markdown",
      "metadata": {
        "id": "view-in-github",
        "colab_type": "text"
      },
      "source": [
        "<a href=\"https://colab.research.google.com/github/SimphiweSixeki/ADS-Assignment-2-3/blob/main/Assignment_2_and_3.ipynb\" target=\"_parent\"><img src=\"https://colab.research.google.com/assets/colab-badge.svg\" alt=\"Open In Colab\"/></a>"
      ]
    },
    {
      "cell_type": "markdown",
      "metadata": {
        "id": "SdETdfbMgqpN"
      },
      "source": [
        "Uncover the factors that lead to employee attrition and explore important questions such as:\n",
        "\n",
        "1. Show a breakdown of distance from home by job role and attrition.\n",
        "\n",
        "2. Compare average monthly income by education and attrition."
      ]
    },
    {
      "cell_type": "code",
      "metadata": {
        "colab": {
          "base_uri": "https://localhost:8080/"
        },
        "id": "4w7BKbsngXZz",
        "outputId": "5312707a-2b78-461c-aea2-5cbb6197d8d9"
      },
      "source": [
        "from google.colab import drive\n",
        "drive.mount('/content/gdrive', force_remount = True)\n",
        "\n",
        "import sys\n",
        "sys.path.append('/content/gdrive/My Drive/DataScienceSchool/Assignments/ADS-Assignment-2-3')"
      ],
      "execution_count": 1,
      "outputs": [
        {
          "output_type": "stream",
          "text": [
            "Mounted at /content/gdrive\n"
          ],
          "name": "stdout"
        }
      ]
    },
    {
      "cell_type": "code",
      "metadata": {
        "colab": {
          "base_uri": "https://localhost:8080/"
        },
        "id": "OQg2hKUDhTc7",
        "outputId": "6476537f-7fb1-430d-8ef0-a6e1ec6c3aa8"
      },
      "source": [
        "import pandas as pd\n",
        "import seaborn as sns\n",
        "import matplotlib.pyplot as plt\n",
        "%matplotlib"
      ],
      "execution_count": 13,
      "outputs": [
        {
          "output_type": "stream",
          "text": [
            "Using matplotlib backend: agg\n"
          ],
          "name": "stdout"
        }
      ]
    },
    {
      "cell_type": "code",
      "metadata": {
        "colab": {
          "base_uri": "https://localhost:8080/",
          "height": 609
        },
        "id": "rMOM8pG5hywK",
        "outputId": "a3acd1f7-2233-44f6-8421-c721b3a6c92f"
      },
      "source": [
        "df = pd.read_csv('/content/gdrive/My Drive/DataScienceSchool/Assignments/ADS-Assignment-2-3/WA_Fn-UseC_-HR-Employee-Attrition.csv')\n",
        "df"
      ],
      "execution_count": 5,
      "outputs": [
        {
          "output_type": "execute_result",
          "data": {
            "text/html": [
              "<div>\n",
              "<style scoped>\n",
              "    .dataframe tbody tr th:only-of-type {\n",
              "        vertical-align: middle;\n",
              "    }\n",
              "\n",
              "    .dataframe tbody tr th {\n",
              "        vertical-align: top;\n",
              "    }\n",
              "\n",
              "    .dataframe thead th {\n",
              "        text-align: right;\n",
              "    }\n",
              "</style>\n",
              "<table border=\"1\" class=\"dataframe\">\n",
              "  <thead>\n",
              "    <tr style=\"text-align: right;\">\n",
              "      <th></th>\n",
              "      <th>Age</th>\n",
              "      <th>Attrition</th>\n",
              "      <th>BusinessTravel</th>\n",
              "      <th>DailyRate</th>\n",
              "      <th>Department</th>\n",
              "      <th>DistanceFromHome</th>\n",
              "      <th>Education</th>\n",
              "      <th>EducationField</th>\n",
              "      <th>EmployeeCount</th>\n",
              "      <th>EmployeeNumber</th>\n",
              "      <th>EnvironmentSatisfaction</th>\n",
              "      <th>Gender</th>\n",
              "      <th>HourlyRate</th>\n",
              "      <th>JobInvolvement</th>\n",
              "      <th>JobLevel</th>\n",
              "      <th>JobRole</th>\n",
              "      <th>JobSatisfaction</th>\n",
              "      <th>MaritalStatus</th>\n",
              "      <th>MonthlyIncome</th>\n",
              "      <th>MonthlyRate</th>\n",
              "      <th>NumCompaniesWorked</th>\n",
              "      <th>Over18</th>\n",
              "      <th>OverTime</th>\n",
              "      <th>PercentSalaryHike</th>\n",
              "      <th>PerformanceRating</th>\n",
              "      <th>RelationshipSatisfaction</th>\n",
              "      <th>StandardHours</th>\n",
              "      <th>StockOptionLevel</th>\n",
              "      <th>TotalWorkingYears</th>\n",
              "      <th>TrainingTimesLastYear</th>\n",
              "      <th>WorkLifeBalance</th>\n",
              "      <th>YearsAtCompany</th>\n",
              "      <th>YearsInCurrentRole</th>\n",
              "      <th>YearsSinceLastPromotion</th>\n",
              "      <th>YearsWithCurrManager</th>\n",
              "    </tr>\n",
              "  </thead>\n",
              "  <tbody>\n",
              "    <tr>\n",
              "      <th>0</th>\n",
              "      <td>41</td>\n",
              "      <td>Yes</td>\n",
              "      <td>Travel_Rarely</td>\n",
              "      <td>1102</td>\n",
              "      <td>Sales</td>\n",
              "      <td>1</td>\n",
              "      <td>2</td>\n",
              "      <td>Life Sciences</td>\n",
              "      <td>1</td>\n",
              "      <td>1</td>\n",
              "      <td>2</td>\n",
              "      <td>Female</td>\n",
              "      <td>94</td>\n",
              "      <td>3</td>\n",
              "      <td>2</td>\n",
              "      <td>Sales Executive</td>\n",
              "      <td>4</td>\n",
              "      <td>Single</td>\n",
              "      <td>5993</td>\n",
              "      <td>19479</td>\n",
              "      <td>8</td>\n",
              "      <td>Y</td>\n",
              "      <td>Yes</td>\n",
              "      <td>11</td>\n",
              "      <td>3</td>\n",
              "      <td>1</td>\n",
              "      <td>80</td>\n",
              "      <td>0</td>\n",
              "      <td>8</td>\n",
              "      <td>0</td>\n",
              "      <td>1</td>\n",
              "      <td>6</td>\n",
              "      <td>4</td>\n",
              "      <td>0</td>\n",
              "      <td>5</td>\n",
              "    </tr>\n",
              "    <tr>\n",
              "      <th>1</th>\n",
              "      <td>49</td>\n",
              "      <td>No</td>\n",
              "      <td>Travel_Frequently</td>\n",
              "      <td>279</td>\n",
              "      <td>Research &amp; Development</td>\n",
              "      <td>8</td>\n",
              "      <td>1</td>\n",
              "      <td>Life Sciences</td>\n",
              "      <td>1</td>\n",
              "      <td>2</td>\n",
              "      <td>3</td>\n",
              "      <td>Male</td>\n",
              "      <td>61</td>\n",
              "      <td>2</td>\n",
              "      <td>2</td>\n",
              "      <td>Research Scientist</td>\n",
              "      <td>2</td>\n",
              "      <td>Married</td>\n",
              "      <td>5130</td>\n",
              "      <td>24907</td>\n",
              "      <td>1</td>\n",
              "      <td>Y</td>\n",
              "      <td>No</td>\n",
              "      <td>23</td>\n",
              "      <td>4</td>\n",
              "      <td>4</td>\n",
              "      <td>80</td>\n",
              "      <td>1</td>\n",
              "      <td>10</td>\n",
              "      <td>3</td>\n",
              "      <td>3</td>\n",
              "      <td>10</td>\n",
              "      <td>7</td>\n",
              "      <td>1</td>\n",
              "      <td>7</td>\n",
              "    </tr>\n",
              "    <tr>\n",
              "      <th>2</th>\n",
              "      <td>37</td>\n",
              "      <td>Yes</td>\n",
              "      <td>Travel_Rarely</td>\n",
              "      <td>1373</td>\n",
              "      <td>Research &amp; Development</td>\n",
              "      <td>2</td>\n",
              "      <td>2</td>\n",
              "      <td>Other</td>\n",
              "      <td>1</td>\n",
              "      <td>4</td>\n",
              "      <td>4</td>\n",
              "      <td>Male</td>\n",
              "      <td>92</td>\n",
              "      <td>2</td>\n",
              "      <td>1</td>\n",
              "      <td>Laboratory Technician</td>\n",
              "      <td>3</td>\n",
              "      <td>Single</td>\n",
              "      <td>2090</td>\n",
              "      <td>2396</td>\n",
              "      <td>6</td>\n",
              "      <td>Y</td>\n",
              "      <td>Yes</td>\n",
              "      <td>15</td>\n",
              "      <td>3</td>\n",
              "      <td>2</td>\n",
              "      <td>80</td>\n",
              "      <td>0</td>\n",
              "      <td>7</td>\n",
              "      <td>3</td>\n",
              "      <td>3</td>\n",
              "      <td>0</td>\n",
              "      <td>0</td>\n",
              "      <td>0</td>\n",
              "      <td>0</td>\n",
              "    </tr>\n",
              "    <tr>\n",
              "      <th>3</th>\n",
              "      <td>33</td>\n",
              "      <td>No</td>\n",
              "      <td>Travel_Frequently</td>\n",
              "      <td>1392</td>\n",
              "      <td>Research &amp; Development</td>\n",
              "      <td>3</td>\n",
              "      <td>4</td>\n",
              "      <td>Life Sciences</td>\n",
              "      <td>1</td>\n",
              "      <td>5</td>\n",
              "      <td>4</td>\n",
              "      <td>Female</td>\n",
              "      <td>56</td>\n",
              "      <td>3</td>\n",
              "      <td>1</td>\n",
              "      <td>Research Scientist</td>\n",
              "      <td>3</td>\n",
              "      <td>Married</td>\n",
              "      <td>2909</td>\n",
              "      <td>23159</td>\n",
              "      <td>1</td>\n",
              "      <td>Y</td>\n",
              "      <td>Yes</td>\n",
              "      <td>11</td>\n",
              "      <td>3</td>\n",
              "      <td>3</td>\n",
              "      <td>80</td>\n",
              "      <td>0</td>\n",
              "      <td>8</td>\n",
              "      <td>3</td>\n",
              "      <td>3</td>\n",
              "      <td>8</td>\n",
              "      <td>7</td>\n",
              "      <td>3</td>\n",
              "      <td>0</td>\n",
              "    </tr>\n",
              "    <tr>\n",
              "      <th>4</th>\n",
              "      <td>27</td>\n",
              "      <td>No</td>\n",
              "      <td>Travel_Rarely</td>\n",
              "      <td>591</td>\n",
              "      <td>Research &amp; Development</td>\n",
              "      <td>2</td>\n",
              "      <td>1</td>\n",
              "      <td>Medical</td>\n",
              "      <td>1</td>\n",
              "      <td>7</td>\n",
              "      <td>1</td>\n",
              "      <td>Male</td>\n",
              "      <td>40</td>\n",
              "      <td>3</td>\n",
              "      <td>1</td>\n",
              "      <td>Laboratory Technician</td>\n",
              "      <td>2</td>\n",
              "      <td>Married</td>\n",
              "      <td>3468</td>\n",
              "      <td>16632</td>\n",
              "      <td>9</td>\n",
              "      <td>Y</td>\n",
              "      <td>No</td>\n",
              "      <td>12</td>\n",
              "      <td>3</td>\n",
              "      <td>4</td>\n",
              "      <td>80</td>\n",
              "      <td>1</td>\n",
              "      <td>6</td>\n",
              "      <td>3</td>\n",
              "      <td>3</td>\n",
              "      <td>2</td>\n",
              "      <td>2</td>\n",
              "      <td>2</td>\n",
              "      <td>2</td>\n",
              "    </tr>\n",
              "    <tr>\n",
              "      <th>...</th>\n",
              "      <td>...</td>\n",
              "      <td>...</td>\n",
              "      <td>...</td>\n",
              "      <td>...</td>\n",
              "      <td>...</td>\n",
              "      <td>...</td>\n",
              "      <td>...</td>\n",
              "      <td>...</td>\n",
              "      <td>...</td>\n",
              "      <td>...</td>\n",
              "      <td>...</td>\n",
              "      <td>...</td>\n",
              "      <td>...</td>\n",
              "      <td>...</td>\n",
              "      <td>...</td>\n",
              "      <td>...</td>\n",
              "      <td>...</td>\n",
              "      <td>...</td>\n",
              "      <td>...</td>\n",
              "      <td>...</td>\n",
              "      <td>...</td>\n",
              "      <td>...</td>\n",
              "      <td>...</td>\n",
              "      <td>...</td>\n",
              "      <td>...</td>\n",
              "      <td>...</td>\n",
              "      <td>...</td>\n",
              "      <td>...</td>\n",
              "      <td>...</td>\n",
              "      <td>...</td>\n",
              "      <td>...</td>\n",
              "      <td>...</td>\n",
              "      <td>...</td>\n",
              "      <td>...</td>\n",
              "      <td>...</td>\n",
              "    </tr>\n",
              "    <tr>\n",
              "      <th>1465</th>\n",
              "      <td>36</td>\n",
              "      <td>No</td>\n",
              "      <td>Travel_Frequently</td>\n",
              "      <td>884</td>\n",
              "      <td>Research &amp; Development</td>\n",
              "      <td>23</td>\n",
              "      <td>2</td>\n",
              "      <td>Medical</td>\n",
              "      <td>1</td>\n",
              "      <td>2061</td>\n",
              "      <td>3</td>\n",
              "      <td>Male</td>\n",
              "      <td>41</td>\n",
              "      <td>4</td>\n",
              "      <td>2</td>\n",
              "      <td>Laboratory Technician</td>\n",
              "      <td>4</td>\n",
              "      <td>Married</td>\n",
              "      <td>2571</td>\n",
              "      <td>12290</td>\n",
              "      <td>4</td>\n",
              "      <td>Y</td>\n",
              "      <td>No</td>\n",
              "      <td>17</td>\n",
              "      <td>3</td>\n",
              "      <td>3</td>\n",
              "      <td>80</td>\n",
              "      <td>1</td>\n",
              "      <td>17</td>\n",
              "      <td>3</td>\n",
              "      <td>3</td>\n",
              "      <td>5</td>\n",
              "      <td>2</td>\n",
              "      <td>0</td>\n",
              "      <td>3</td>\n",
              "    </tr>\n",
              "    <tr>\n",
              "      <th>1466</th>\n",
              "      <td>39</td>\n",
              "      <td>No</td>\n",
              "      <td>Travel_Rarely</td>\n",
              "      <td>613</td>\n",
              "      <td>Research &amp; Development</td>\n",
              "      <td>6</td>\n",
              "      <td>1</td>\n",
              "      <td>Medical</td>\n",
              "      <td>1</td>\n",
              "      <td>2062</td>\n",
              "      <td>4</td>\n",
              "      <td>Male</td>\n",
              "      <td>42</td>\n",
              "      <td>2</td>\n",
              "      <td>3</td>\n",
              "      <td>Healthcare Representative</td>\n",
              "      <td>1</td>\n",
              "      <td>Married</td>\n",
              "      <td>9991</td>\n",
              "      <td>21457</td>\n",
              "      <td>4</td>\n",
              "      <td>Y</td>\n",
              "      <td>No</td>\n",
              "      <td>15</td>\n",
              "      <td>3</td>\n",
              "      <td>1</td>\n",
              "      <td>80</td>\n",
              "      <td>1</td>\n",
              "      <td>9</td>\n",
              "      <td>5</td>\n",
              "      <td>3</td>\n",
              "      <td>7</td>\n",
              "      <td>7</td>\n",
              "      <td>1</td>\n",
              "      <td>7</td>\n",
              "    </tr>\n",
              "    <tr>\n",
              "      <th>1467</th>\n",
              "      <td>27</td>\n",
              "      <td>No</td>\n",
              "      <td>Travel_Rarely</td>\n",
              "      <td>155</td>\n",
              "      <td>Research &amp; Development</td>\n",
              "      <td>4</td>\n",
              "      <td>3</td>\n",
              "      <td>Life Sciences</td>\n",
              "      <td>1</td>\n",
              "      <td>2064</td>\n",
              "      <td>2</td>\n",
              "      <td>Male</td>\n",
              "      <td>87</td>\n",
              "      <td>4</td>\n",
              "      <td>2</td>\n",
              "      <td>Manufacturing Director</td>\n",
              "      <td>2</td>\n",
              "      <td>Married</td>\n",
              "      <td>6142</td>\n",
              "      <td>5174</td>\n",
              "      <td>1</td>\n",
              "      <td>Y</td>\n",
              "      <td>Yes</td>\n",
              "      <td>20</td>\n",
              "      <td>4</td>\n",
              "      <td>2</td>\n",
              "      <td>80</td>\n",
              "      <td>1</td>\n",
              "      <td>6</td>\n",
              "      <td>0</td>\n",
              "      <td>3</td>\n",
              "      <td>6</td>\n",
              "      <td>2</td>\n",
              "      <td>0</td>\n",
              "      <td>3</td>\n",
              "    </tr>\n",
              "    <tr>\n",
              "      <th>1468</th>\n",
              "      <td>49</td>\n",
              "      <td>No</td>\n",
              "      <td>Travel_Frequently</td>\n",
              "      <td>1023</td>\n",
              "      <td>Sales</td>\n",
              "      <td>2</td>\n",
              "      <td>3</td>\n",
              "      <td>Medical</td>\n",
              "      <td>1</td>\n",
              "      <td>2065</td>\n",
              "      <td>4</td>\n",
              "      <td>Male</td>\n",
              "      <td>63</td>\n",
              "      <td>2</td>\n",
              "      <td>2</td>\n",
              "      <td>Sales Executive</td>\n",
              "      <td>2</td>\n",
              "      <td>Married</td>\n",
              "      <td>5390</td>\n",
              "      <td>13243</td>\n",
              "      <td>2</td>\n",
              "      <td>Y</td>\n",
              "      <td>No</td>\n",
              "      <td>14</td>\n",
              "      <td>3</td>\n",
              "      <td>4</td>\n",
              "      <td>80</td>\n",
              "      <td>0</td>\n",
              "      <td>17</td>\n",
              "      <td>3</td>\n",
              "      <td>2</td>\n",
              "      <td>9</td>\n",
              "      <td>6</td>\n",
              "      <td>0</td>\n",
              "      <td>8</td>\n",
              "    </tr>\n",
              "    <tr>\n",
              "      <th>1469</th>\n",
              "      <td>34</td>\n",
              "      <td>No</td>\n",
              "      <td>Travel_Rarely</td>\n",
              "      <td>628</td>\n",
              "      <td>Research &amp; Development</td>\n",
              "      <td>8</td>\n",
              "      <td>3</td>\n",
              "      <td>Medical</td>\n",
              "      <td>1</td>\n",
              "      <td>2068</td>\n",
              "      <td>2</td>\n",
              "      <td>Male</td>\n",
              "      <td>82</td>\n",
              "      <td>4</td>\n",
              "      <td>2</td>\n",
              "      <td>Laboratory Technician</td>\n",
              "      <td>3</td>\n",
              "      <td>Married</td>\n",
              "      <td>4404</td>\n",
              "      <td>10228</td>\n",
              "      <td>2</td>\n",
              "      <td>Y</td>\n",
              "      <td>No</td>\n",
              "      <td>12</td>\n",
              "      <td>3</td>\n",
              "      <td>1</td>\n",
              "      <td>80</td>\n",
              "      <td>0</td>\n",
              "      <td>6</td>\n",
              "      <td>3</td>\n",
              "      <td>4</td>\n",
              "      <td>4</td>\n",
              "      <td>3</td>\n",
              "      <td>1</td>\n",
              "      <td>2</td>\n",
              "    </tr>\n",
              "  </tbody>\n",
              "</table>\n",
              "<p>1470 rows × 35 columns</p>\n",
              "</div>"
            ],
            "text/plain": [
              "      Age Attrition  ... YearsSinceLastPromotion  YearsWithCurrManager\n",
              "0      41       Yes  ...                       0                     5\n",
              "1      49        No  ...                       1                     7\n",
              "2      37       Yes  ...                       0                     0\n",
              "3      33        No  ...                       3                     0\n",
              "4      27        No  ...                       2                     2\n",
              "...   ...       ...  ...                     ...                   ...\n",
              "1465   36        No  ...                       0                     3\n",
              "1466   39        No  ...                       1                     7\n",
              "1467   27        No  ...                       0                     3\n",
              "1468   49        No  ...                       0                     8\n",
              "1469   34        No  ...                       1                     2\n",
              "\n",
              "[1470 rows x 35 columns]"
            ]
          },
          "metadata": {
            "tags": []
          },
          "execution_count": 5
        }
      ]
    },
    {
      "cell_type": "code",
      "metadata": {
        "colab": {
          "base_uri": "https://localhost:8080/"
        },
        "id": "QIgGVbqWi7Oe",
        "outputId": "2d07c538-e249-440f-8235-bdfdbd5e3089"
      },
      "source": [
        "df.columns"
      ],
      "execution_count": 6,
      "outputs": [
        {
          "output_type": "execute_result",
          "data": {
            "text/plain": [
              "Index(['Age', 'Attrition', 'BusinessTravel', 'DailyRate', 'Department',\n",
              "       'DistanceFromHome', 'Education', 'EducationField', 'EmployeeCount',\n",
              "       'EmployeeNumber', 'EnvironmentSatisfaction', 'Gender', 'HourlyRate',\n",
              "       'JobInvolvement', 'JobLevel', 'JobRole', 'JobSatisfaction',\n",
              "       'MaritalStatus', 'MonthlyIncome', 'MonthlyRate', 'NumCompaniesWorked',\n",
              "       'Over18', 'OverTime', 'PercentSalaryHike', 'PerformanceRating',\n",
              "       'RelationshipSatisfaction', 'StandardHours', 'StockOptionLevel',\n",
              "       'TotalWorkingYears', 'TrainingTimesLastYear', 'WorkLifeBalance',\n",
              "       'YearsAtCompany', 'YearsInCurrentRole', 'YearsSinceLastPromotion',\n",
              "       'YearsWithCurrManager'],\n",
              "      dtype='object')"
            ]
          },
          "metadata": {
            "tags": []
          },
          "execution_count": 6
        }
      ]
    },
    {
      "cell_type": "code",
      "metadata": {
        "colab": {
          "base_uri": "https://localhost:8080/"
        },
        "id": "b91AwxrEkBXK",
        "outputId": "191cf676-08eb-449b-db44-7fccaf2c7768"
      },
      "source": [
        "df.dtypes"
      ],
      "execution_count": 7,
      "outputs": [
        {
          "output_type": "execute_result",
          "data": {
            "text/plain": [
              "Age                          int64\n",
              "Attrition                   object\n",
              "BusinessTravel              object\n",
              "DailyRate                    int64\n",
              "Department                  object\n",
              "DistanceFromHome             int64\n",
              "Education                    int64\n",
              "EducationField              object\n",
              "EmployeeCount                int64\n",
              "EmployeeNumber               int64\n",
              "EnvironmentSatisfaction      int64\n",
              "Gender                      object\n",
              "HourlyRate                   int64\n",
              "JobInvolvement               int64\n",
              "JobLevel                     int64\n",
              "JobRole                     object\n",
              "JobSatisfaction              int64\n",
              "MaritalStatus               object\n",
              "MonthlyIncome                int64\n",
              "MonthlyRate                  int64\n",
              "NumCompaniesWorked           int64\n",
              "Over18                      object\n",
              "OverTime                    object\n",
              "PercentSalaryHike            int64\n",
              "PerformanceRating            int64\n",
              "RelationshipSatisfaction     int64\n",
              "StandardHours                int64\n",
              "StockOptionLevel             int64\n",
              "TotalWorkingYears            int64\n",
              "TrainingTimesLastYear        int64\n",
              "WorkLifeBalance              int64\n",
              "YearsAtCompany               int64\n",
              "YearsInCurrentRole           int64\n",
              "YearsSinceLastPromotion      int64\n",
              "YearsWithCurrManager         int64\n",
              "dtype: object"
            ]
          },
          "metadata": {
            "tags": []
          },
          "execution_count": 7
        }
      ]
    },
    {
      "cell_type": "code",
      "metadata": {
        "colab": {
          "base_uri": "https://localhost:8080/"
        },
        "id": "ozj5HMzAkH2Y",
        "outputId": "3406d376-05fe-411d-b249-60a219c1ce72"
      },
      "source": [
        "df.DistanceFromHome.nunique()"
      ],
      "execution_count": 9,
      "outputs": [
        {
          "output_type": "execute_result",
          "data": {
            "text/plain": [
              "29"
            ]
          },
          "metadata": {
            "tags": []
          },
          "execution_count": 9
        }
      ]
    },
    {
      "cell_type": "markdown",
      "metadata": {
        "id": "8MxtW3lnlEI5"
      },
      "source": [
        "1. Show a breakdown of distance from home by job role and attrition."
      ]
    },
    {
      "cell_type": "code",
      "metadata": {
        "colab": {
          "base_uri": "https://localhost:8080/",
          "height": 359
        },
        "id": "zJLygn2Cktaq",
        "outputId": "be3549d6-ab50-4022-ae34-0f0470b0a9d7"
      },
      "source": [
        "df.groupby(['JobRole', 'Attrition'])['DistanceFromHome'].mean().unstack().head(30)"
      ],
      "execution_count": 10,
      "outputs": [
        {
          "output_type": "execute_result",
          "data": {
            "text/html": [
              "<div>\n",
              "<style scoped>\n",
              "    .dataframe tbody tr th:only-of-type {\n",
              "        vertical-align: middle;\n",
              "    }\n",
              "\n",
              "    .dataframe tbody tr th {\n",
              "        vertical-align: top;\n",
              "    }\n",
              "\n",
              "    .dataframe thead th {\n",
              "        text-align: right;\n",
              "    }\n",
              "</style>\n",
              "<table border=\"1\" class=\"dataframe\">\n",
              "  <thead>\n",
              "    <tr style=\"text-align: right;\">\n",
              "      <th>Attrition</th>\n",
              "      <th>No</th>\n",
              "      <th>Yes</th>\n",
              "    </tr>\n",
              "    <tr>\n",
              "      <th>JobRole</th>\n",
              "      <th></th>\n",
              "      <th></th>\n",
              "    </tr>\n",
              "  </thead>\n",
              "  <tbody>\n",
              "    <tr>\n",
              "      <th>Healthcare Representative</th>\n",
              "      <td>9.204918</td>\n",
              "      <td>17.666667</td>\n",
              "    </tr>\n",
              "    <tr>\n",
              "      <th>Human Resources</th>\n",
              "      <td>6.600000</td>\n",
              "      <td>13.416667</td>\n",
              "    </tr>\n",
              "    <tr>\n",
              "      <th>Laboratory Technician</th>\n",
              "      <td>9.329949</td>\n",
              "      <td>9.661290</td>\n",
              "    </tr>\n",
              "    <tr>\n",
              "      <th>Manager</th>\n",
              "      <td>7.927835</td>\n",
              "      <td>10.000000</td>\n",
              "    </tr>\n",
              "    <tr>\n",
              "      <th>Manufacturing Director</th>\n",
              "      <td>9.533333</td>\n",
              "      <td>8.800000</td>\n",
              "    </tr>\n",
              "    <tr>\n",
              "      <th>Research Director</th>\n",
              "      <td>8.474359</td>\n",
              "      <td>7.000000</td>\n",
              "    </tr>\n",
              "    <tr>\n",
              "      <th>Research Scientist</th>\n",
              "      <td>8.869388</td>\n",
              "      <td>9.765957</td>\n",
              "    </tr>\n",
              "    <tr>\n",
              "      <th>Sales Executive</th>\n",
              "      <td>9.026022</td>\n",
              "      <td>12.649123</td>\n",
              "    </tr>\n",
              "    <tr>\n",
              "      <th>Sales Representative</th>\n",
              "      <td>9.000000</td>\n",
              "      <td>8.151515</td>\n",
              "    </tr>\n",
              "  </tbody>\n",
              "</table>\n",
              "</div>"
            ],
            "text/plain": [
              "Attrition                        No        Yes\n",
              "JobRole                                       \n",
              "Healthcare Representative  9.204918  17.666667\n",
              "Human Resources            6.600000  13.416667\n",
              "Laboratory Technician      9.329949   9.661290\n",
              "Manager                    7.927835  10.000000\n",
              "Manufacturing Director     9.533333   8.800000\n",
              "Research Director          8.474359   7.000000\n",
              "Research Scientist         8.869388   9.765957\n",
              "Sales Executive            9.026022  12.649123\n",
              "Sales Representative       9.000000   8.151515"
            ]
          },
          "metadata": {
            "tags": []
          },
          "execution_count": 10
        }
      ]
    },
    {
      "cell_type": "markdown",
      "metadata": {
        "id": "qIWb1C39o0XX"
      },
      "source": [
        "We can also visualize the above data"
      ]
    },
    {
      "cell_type": "code",
      "metadata": {
        "colab": {
          "base_uri": "https://localhost:8080/"
        },
        "id": "Safc-Oc5o7aF",
        "outputId": "533a9267-f957-437a-fff1-f1741f1fe675"
      },
      "source": [
        "plt.figure(figsize = (22, 12))\n",
        "sns.barplot(x = 'JobRole', y = 'DistanceFromHome', data = df, hue = 'Attrition')"
      ],
      "execution_count": 17,
      "outputs": [
        {
          "output_type": "execute_result",
          "data": {
            "text/plain": [
              "<matplotlib.axes._subplots.AxesSubplot at 0x7fa096788d90>"
            ]
          },
          "metadata": {
            "tags": []
          },
          "execution_count": 17
        }
      ]
    },
    {
      "cell_type": "code",
      "metadata": {
        "id": "EokAS1A5sTX1"
      },
      "source": [
        ""
      ],
      "execution_count": null,
      "outputs": []
    },
    {
      "cell_type": "markdown",
      "metadata": {
        "id": "Hv3XhO9JyTyb"
      },
      "source": [
        "2. Compare average monthly income by education and attrition."
      ]
    },
    {
      "cell_type": "code",
      "metadata": {
        "colab": {
          "base_uri": "https://localhost:8080/"
        },
        "id": "ZYeT-HC3ybSN",
        "outputId": "132f562b-e699-483b-9622-b58023835e38"
      },
      "source": [
        "df['Education'].nunique()"
      ],
      "execution_count": 19,
      "outputs": [
        {
          "output_type": "execute_result",
          "data": {
            "text/plain": [
              "5"
            ]
          },
          "metadata": {
            "tags": []
          },
          "execution_count": 19
        }
      ]
    },
    {
      "cell_type": "code",
      "metadata": {
        "colab": {
          "base_uri": "https://localhost:8080/"
        },
        "id": "FoZ_JqBoy6nJ",
        "outputId": "00d87354-3591-442a-c9bd-185511f016d2"
      },
      "source": [
        "df['MonthlyIncome'].nunique()"
      ],
      "execution_count": 20,
      "outputs": [
        {
          "output_type": "execute_result",
          "data": {
            "text/plain": [
              "1349"
            ]
          },
          "metadata": {
            "tags": []
          },
          "execution_count": 20
        }
      ]
    },
    {
      "cell_type": "code",
      "metadata": {
        "colab": {
          "base_uri": "https://localhost:8080/",
          "height": 235
        },
        "id": "zptSw08vzDw-",
        "outputId": "f6905dd3-5d16-4da0-c229-57e1b7cd850e"
      },
      "source": [
        "df.groupby(['Education', 'Attrition'])['MonthlyIncome'].mean().unstack()"
      ],
      "execution_count": 22,
      "outputs": [
        {
          "output_type": "execute_result",
          "data": {
            "text/html": [
              "<div>\n",
              "<style scoped>\n",
              "    .dataframe tbody tr th:only-of-type {\n",
              "        vertical-align: middle;\n",
              "    }\n",
              "\n",
              "    .dataframe tbody tr th {\n",
              "        vertical-align: top;\n",
              "    }\n",
              "\n",
              "    .dataframe thead th {\n",
              "        text-align: right;\n",
              "    }\n",
              "</style>\n",
              "<table border=\"1\" class=\"dataframe\">\n",
              "  <thead>\n",
              "    <tr style=\"text-align: right;\">\n",
              "      <th>Attrition</th>\n",
              "      <th>No</th>\n",
              "      <th>Yes</th>\n",
              "    </tr>\n",
              "    <tr>\n",
              "      <th>Education</th>\n",
              "      <th></th>\n",
              "      <th></th>\n",
              "    </tr>\n",
              "  </thead>\n",
              "  <tbody>\n",
              "    <tr>\n",
              "      <th>1</th>\n",
              "      <td>5926.129496</td>\n",
              "      <td>4360.161290</td>\n",
              "    </tr>\n",
              "    <tr>\n",
              "      <th>2</th>\n",
              "      <td>6586.058824</td>\n",
              "      <td>4282.545455</td>\n",
              "    </tr>\n",
              "    <tr>\n",
              "      <th>3</th>\n",
              "      <td>6882.919662</td>\n",
              "      <td>4770.242424</td>\n",
              "    </tr>\n",
              "    <tr>\n",
              "      <th>4</th>\n",
              "      <td>7087.814706</td>\n",
              "      <td>5335.155172</td>\n",
              "    </tr>\n",
              "    <tr>\n",
              "      <th>5</th>\n",
              "      <td>8559.906977</td>\n",
              "      <td>5850.200000</td>\n",
              "    </tr>\n",
              "  </tbody>\n",
              "</table>\n",
              "</div>"
            ],
            "text/plain": [
              "Attrition           No          Yes\n",
              "Education                          \n",
              "1          5926.129496  4360.161290\n",
              "2          6586.058824  4282.545455\n",
              "3          6882.919662  4770.242424\n",
              "4          7087.814706  5335.155172\n",
              "5          8559.906977  5850.200000"
            ]
          },
          "metadata": {
            "tags": []
          },
          "execution_count": 22
        }
      ]
    },
    {
      "cell_type": "code",
      "metadata": {
        "colab": {
          "base_uri": "https://localhost:8080/"
        },
        "id": "27oHuP5lzkKL",
        "outputId": "082a589b-ffa1-403a-faf2-f3d1d0c8bec7"
      },
      "source": [
        "plt.figure(figsize=(22, 12))\n",
        "sns.barplot(x='Education', y = 'MonthlyIncome', data = df, hue = 'Attrition')"
      ],
      "execution_count": 23,
      "outputs": [
        {
          "output_type": "execute_result",
          "data": {
            "text/plain": [
              "<matplotlib.axes._subplots.AxesSubplot at 0x7fa096dc3f10>"
            ]
          },
          "metadata": {
            "tags": []
          },
          "execution_count": 23
        }
      ]
    }
  ]
}